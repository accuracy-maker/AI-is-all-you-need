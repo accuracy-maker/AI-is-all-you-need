{
 "cells": [
  {
   "cell_type": "code",
   "execution_count": 1,
   "id": "d82fe83c-e352-4a3e-b1c3-3624608191be",
   "metadata": {},
   "outputs": [],
   "source": [
    "import pandas as pd\n",
    "import matplotlib.pyplot as plt\n",
    "import warnings\n",
    "warnings.filterwarnings(\"ignore\")"
   ]
  },
  {
   "cell_type": "code",
   "execution_count": 2,
   "id": "5129576b-7e69-49f7-ac48-ac04d4ef80c2",
   "metadata": {},
   "outputs": [
    {
     "data": {
      "text/html": [
       "<div>\n",
       "<style scoped>\n",
       "    .dataframe tbody tr th:only-of-type {\n",
       "        vertical-align: middle;\n",
       "    }\n",
       "\n",
       "    .dataframe tbody tr th {\n",
       "        vertical-align: top;\n",
       "    }\n",
       "\n",
       "    .dataframe thead th {\n",
       "        text-align: right;\n",
       "    }\n",
       "</style>\n",
       "<table border=\"1\" class=\"dataframe\">\n",
       "  <thead>\n",
       "    <tr style=\"text-align: right;\">\n",
       "      <th></th>\n",
       "      <th>date</th>\n",
       "      <th>power</th>\n",
       "      <th>max_temp</th>\n",
       "      <th>min_temp</th>\n",
       "      <th>ctn1</th>\n",
       "      <th>ctn2</th>\n",
       "      <th>v1</th>\n",
       "      <th>v2</th>\n",
       "      <th>next_max_temp</th>\n",
       "      <th>next_min_temp</th>\n",
       "      <th>next_v1</th>\n",
       "      <th>next_v2</th>\n",
       "    </tr>\n",
       "  </thead>\n",
       "  <tbody>\n",
       "    <tr>\n",
       "      <th>0</th>\n",
       "      <td>2021-04-15 00:00:00</td>\n",
       "      <td>0</td>\n",
       "      <td>15</td>\n",
       "      <td>10</td>\n",
       "      <td>小雨</td>\n",
       "      <td>多云</td>\n",
       "      <td>-0.24017</td>\n",
       "      <td>-0.106205</td>\n",
       "      <td>15.0</td>\n",
       "      <td>10.0</td>\n",
       "      <td>-0.24017</td>\n",
       "      <td>-0.106205</td>\n",
       "    </tr>\n",
       "    <tr>\n",
       "      <th>1</th>\n",
       "      <td>2021-04-15 01:00:00</td>\n",
       "      <td>0</td>\n",
       "      <td>15</td>\n",
       "      <td>10</td>\n",
       "      <td>小雨</td>\n",
       "      <td>多云</td>\n",
       "      <td>-0.24017</td>\n",
       "      <td>-0.106205</td>\n",
       "      <td>15.0</td>\n",
       "      <td>10.0</td>\n",
       "      <td>-0.24017</td>\n",
       "      <td>-0.106205</td>\n",
       "    </tr>\n",
       "    <tr>\n",
       "      <th>2</th>\n",
       "      <td>2021-04-15 02:00:00</td>\n",
       "      <td>0</td>\n",
       "      <td>15</td>\n",
       "      <td>10</td>\n",
       "      <td>小雨</td>\n",
       "      <td>多云</td>\n",
       "      <td>-0.24017</td>\n",
       "      <td>-0.106205</td>\n",
       "      <td>15.0</td>\n",
       "      <td>10.0</td>\n",
       "      <td>-0.24017</td>\n",
       "      <td>-0.106205</td>\n",
       "    </tr>\n",
       "    <tr>\n",
       "      <th>3</th>\n",
       "      <td>2021-04-15 03:00:00</td>\n",
       "      <td>0</td>\n",
       "      <td>15</td>\n",
       "      <td>10</td>\n",
       "      <td>小雨</td>\n",
       "      <td>多云</td>\n",
       "      <td>-0.24017</td>\n",
       "      <td>-0.106205</td>\n",
       "      <td>15.0</td>\n",
       "      <td>10.0</td>\n",
       "      <td>-0.24017</td>\n",
       "      <td>-0.106205</td>\n",
       "    </tr>\n",
       "    <tr>\n",
       "      <th>4</th>\n",
       "      <td>2021-04-15 04:00:00</td>\n",
       "      <td>0</td>\n",
       "      <td>15</td>\n",
       "      <td>10</td>\n",
       "      <td>小雨</td>\n",
       "      <td>多云</td>\n",
       "      <td>-0.24017</td>\n",
       "      <td>-0.106205</td>\n",
       "      <td>15.0</td>\n",
       "      <td>10.0</td>\n",
       "      <td>-0.24017</td>\n",
       "      <td>-0.106205</td>\n",
       "    </tr>\n",
       "  </tbody>\n",
       "</table>\n",
       "</div>"
      ],
      "text/plain": [
       "                 date  power  max_temp  min_temp ctn1 ctn2       v1        v2  \\\n",
       "0 2021-04-15 00:00:00      0        15        10   小雨   多云 -0.24017 -0.106205   \n",
       "1 2021-04-15 01:00:00      0        15        10   小雨   多云 -0.24017 -0.106205   \n",
       "2 2021-04-15 02:00:00      0        15        10   小雨   多云 -0.24017 -0.106205   \n",
       "3 2021-04-15 03:00:00      0        15        10   小雨   多云 -0.24017 -0.106205   \n",
       "4 2021-04-15 04:00:00      0        15        10   小雨   多云 -0.24017 -0.106205   \n",
       "\n",
       "   next_max_temp  next_min_temp  next_v1   next_v2  \n",
       "0           15.0           10.0 -0.24017 -0.106205  \n",
       "1           15.0           10.0 -0.24017 -0.106205  \n",
       "2           15.0           10.0 -0.24017 -0.106205  \n",
       "3           15.0           10.0 -0.24017 -0.106205  \n",
       "4           15.0           10.0 -0.24017 -0.106205  "
      ]
     },
     "execution_count": 2,
     "metadata": {},
     "output_type": "execute_result"
    }
   ],
   "source": [
    "dataset = pd.read_excel('./solarpower.xlsx',index_col=0)\n",
    "dataset.head()"
   ]
  },
  {
   "cell_type": "code",
   "execution_count": 5,
   "id": "5d5002ac-58be-4e70-8a2c-a42305e9bf74",
   "metadata": {},
   "outputs": [
    {
     "data": {
      "text/plain": [
       "小雨      5016\n",
       "多云      2760\n",
       "阴       2520\n",
       "晴       2064\n",
       "小到中雨    1032\n",
       "雷阵雨      792\n",
       "中雨       336\n",
       "中到大雨     192\n",
       "大雨       168\n",
       "雾         24\n",
       "大到暴雨      24\n",
       "雨夹雪       24\n",
       "暴雨        24\n",
       "阵雨        24\n",
       "Name: ctn1, dtype: int64"
      ]
     },
     "execution_count": 5,
     "metadata": {},
     "output_type": "execute_result"
    }
   ],
   "source": [
    "df = dataset.groupby('ctn1')\n",
    "dataset['ctn1'].value_counts()"
   ]
  },
  {
   "cell_type": "code",
   "execution_count": 7,
   "id": "8a746062-9e4d-4edd-86cc-f1c162d4b587",
   "metadata": {},
   "outputs": [
    {
     "data": {
      "text/plain": [
       "(2064, 12)"
      ]
     },
     "execution_count": 7,
     "metadata": {},
     "output_type": "execute_result"
    }
   ],
   "source": [
    "df1 = df.get_group('晴')\n",
    "df1.shape"
   ]
  },
  {
   "cell_type": "code",
   "execution_count": 8,
   "id": "dbb6027c-c35a-46f2-bfc0-2e38242c0a01",
   "metadata": {},
   "outputs": [
    {
     "data": {
      "text/html": [
       "<div>\n",
       "<style scoped>\n",
       "    .dataframe tbody tr th:only-of-type {\n",
       "        vertical-align: middle;\n",
       "    }\n",
       "\n",
       "    .dataframe tbody tr th {\n",
       "        vertical-align: top;\n",
       "    }\n",
       "\n",
       "    .dataframe thead th {\n",
       "        text-align: right;\n",
       "    }\n",
       "</style>\n",
       "<table border=\"1\" class=\"dataframe\">\n",
       "  <thead>\n",
       "    <tr style=\"text-align: right;\">\n",
       "      <th></th>\n",
       "      <th>date</th>\n",
       "      <th>power</th>\n",
       "      <th>max_temp</th>\n",
       "      <th>min_temp</th>\n",
       "      <th>ctn1</th>\n",
       "      <th>ctn2</th>\n",
       "      <th>v1</th>\n",
       "      <th>v2</th>\n",
       "      <th>next_max_temp</th>\n",
       "      <th>next_min_temp</th>\n",
       "      <th>next_v1</th>\n",
       "      <th>next_v2</th>\n",
       "    </tr>\n",
       "  </thead>\n",
       "  <tbody>\n",
       "    <tr>\n",
       "      <th>96</th>\n",
       "      <td>2021-04-19 00:00:00</td>\n",
       "      <td>0</td>\n",
       "      <td>18</td>\n",
       "      <td>11</td>\n",
       "      <td>晴</td>\n",
       "      <td>晴</td>\n",
       "      <td>0.838139</td>\n",
       "      <td>0.838139</td>\n",
       "      <td>18.0</td>\n",
       "      <td>11.0</td>\n",
       "      <td>0.838139</td>\n",
       "      <td>0.838139</td>\n",
       "    </tr>\n",
       "    <tr>\n",
       "      <th>97</th>\n",
       "      <td>2021-04-19 01:00:00</td>\n",
       "      <td>0</td>\n",
       "      <td>18</td>\n",
       "      <td>11</td>\n",
       "      <td>晴</td>\n",
       "      <td>晴</td>\n",
       "      <td>0.838139</td>\n",
       "      <td>0.838139</td>\n",
       "      <td>18.0</td>\n",
       "      <td>11.0</td>\n",
       "      <td>0.838139</td>\n",
       "      <td>0.838139</td>\n",
       "    </tr>\n",
       "    <tr>\n",
       "      <th>98</th>\n",
       "      <td>2021-04-19 02:00:00</td>\n",
       "      <td>0</td>\n",
       "      <td>18</td>\n",
       "      <td>11</td>\n",
       "      <td>晴</td>\n",
       "      <td>晴</td>\n",
       "      <td>0.838139</td>\n",
       "      <td>0.838139</td>\n",
       "      <td>18.0</td>\n",
       "      <td>11.0</td>\n",
       "      <td>0.838139</td>\n",
       "      <td>0.838139</td>\n",
       "    </tr>\n",
       "    <tr>\n",
       "      <th>99</th>\n",
       "      <td>2021-04-19 03:00:00</td>\n",
       "      <td>0</td>\n",
       "      <td>18</td>\n",
       "      <td>11</td>\n",
       "      <td>晴</td>\n",
       "      <td>晴</td>\n",
       "      <td>0.838139</td>\n",
       "      <td>0.838139</td>\n",
       "      <td>18.0</td>\n",
       "      <td>11.0</td>\n",
       "      <td>0.838139</td>\n",
       "      <td>0.838139</td>\n",
       "    </tr>\n",
       "    <tr>\n",
       "      <th>100</th>\n",
       "      <td>2021-04-19 04:00:00</td>\n",
       "      <td>0</td>\n",
       "      <td>18</td>\n",
       "      <td>11</td>\n",
       "      <td>晴</td>\n",
       "      <td>晴</td>\n",
       "      <td>0.838139</td>\n",
       "      <td>0.838139</td>\n",
       "      <td>18.0</td>\n",
       "      <td>11.0</td>\n",
       "      <td>0.838139</td>\n",
       "      <td>0.838139</td>\n",
       "    </tr>\n",
       "  </tbody>\n",
       "</table>\n",
       "</div>"
      ],
      "text/plain": [
       "                   date  power  max_temp  min_temp ctn1 ctn2        v1  \\\n",
       "96  2021-04-19 00:00:00      0        18        11    晴    晴  0.838139   \n",
       "97  2021-04-19 01:00:00      0        18        11    晴    晴  0.838139   \n",
       "98  2021-04-19 02:00:00      0        18        11    晴    晴  0.838139   \n",
       "99  2021-04-19 03:00:00      0        18        11    晴    晴  0.838139   \n",
       "100 2021-04-19 04:00:00      0        18        11    晴    晴  0.838139   \n",
       "\n",
       "           v2  next_max_temp  next_min_temp   next_v1   next_v2  \n",
       "96   0.838139           18.0           11.0  0.838139  0.838139  \n",
       "97   0.838139           18.0           11.0  0.838139  0.838139  \n",
       "98   0.838139           18.0           11.0  0.838139  0.838139  \n",
       "99   0.838139           18.0           11.0  0.838139  0.838139  \n",
       "100  0.838139           18.0           11.0  0.838139  0.838139  "
      ]
     },
     "execution_count": 8,
     "metadata": {},
     "output_type": "execute_result"
    }
   ],
   "source": [
    "df1.head()"
   ]
  },
  {
   "cell_type": "code",
   "execution_count": 9,
   "id": "ef9f20b8-bf96-413e-8653-e44936ef9328",
   "metadata": {},
   "outputs": [
    {
     "data": {
      "text/plain": [
       "<AxesSubplot: >"
      ]
     },
     "execution_count": 9,
     "metadata": {},
     "output_type": "execute_result"
    },
    {
     "data": {
      "image/png": "[encoded data removed]",
      "text/plain": [
       "<Figure size 640x480 with 1 Axes>"
      ]
     },
     "metadata": {},
     "output_type": "display_data"
    }
   ],
   "source": [
    "df1['power'].plot()"
   ]
  },
  {
   "cell_type": "code",
   "execution_count": 11,
   "id": "c9b5ecea-fdd1-410e-bbfd-523b1d43d6b6",
   "metadata": {},
   "outputs": [
    {
     "data": {
      "text/plain": [
       "<AxesSubplot: >"
      ]
     },
     "execution_count": 11,
     "metadata": {},
     "output_type": "execute_result"
    },
    {
     "data": {
      "image/png": "[encoded data removed]",
      "text/plain": [
       "<Figure size 640x480 with 1 Axes>"
      ]
     },
     "metadata": {},
     "output_type": "display_data"
    }
   ],
   "source": [
    "df2 = df.get_group('阴')\n",
    "df2['power'].plot()"
   ]
  },
  {
   "cell_type": "code",
   "execution_count": null,
   "id": "c046a4d2-b9d9-4e6f-9459-ae497fd9bbcc",
   "metadata": {},
   "outputs": [],
   "source": []
  }
 ],
 "metadata": {
  "kernelspec": {
   "display_name": "Python 3 (ipykernel)",
   "language": "python",
   "name": "python3"
  },
  "language_info": {
   "codemirror_mode": {
    "name": "ipython",
    "version": 3
   },
   "file_extension": ".py",
   "mimetype": "text/x-python",
   "name": "python",
   "nbconvert_exporter": "python",
   "pygments_lexer": "ipython3",
   "version": "3.9.15"
  }
 },
 "nbformat": 4,
 "nbformat_minor": 5
}
