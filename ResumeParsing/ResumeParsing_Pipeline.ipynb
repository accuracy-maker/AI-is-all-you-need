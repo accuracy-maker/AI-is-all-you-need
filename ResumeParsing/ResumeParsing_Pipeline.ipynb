{
 "cells": [
  {
   "cell_type": "code",
   "execution_count": 8,
   "metadata": {
    "pycharm": {
     "name": "#%%\n"
    }
   },
   "outputs": [
    {
     "ename": "PDFInfoNotInstalledError",
     "evalue": "Unable to get page count. Is poppler installed and in PATH?",
     "output_type": "error",
     "traceback": [
      "\u001B[0;31m---------------------------------------------------------------------------\u001B[0m",
      "\u001B[0;31mFileNotFoundError\u001B[0m                         Traceback (most recent call last)",
      "File \u001B[0;32m~/opt/anaconda3/envs/ResumeParsing/lib/python3.9/site-packages/pdf2image/pdf2image.py:568\u001B[0m, in \u001B[0;36mpdfinfo_from_path\u001B[0;34m(pdf_path, userpw, ownerpw, poppler_path, rawdates, timeout)\u001B[0m\n\u001B[1;32m    567\u001B[0m     env[\u001B[39m\"\u001B[39m\u001B[39mLD_LIBRARY_PATH\u001B[39m\u001B[39m\"\u001B[39m] \u001B[39m=\u001B[39m poppler_path \u001B[39m+\u001B[39m \u001B[39m\"\u001B[39m\u001B[39m:\u001B[39m\u001B[39m\"\u001B[39m \u001B[39m+\u001B[39m env\u001B[39m.\u001B[39mget(\u001B[39m\"\u001B[39m\u001B[39mLD_LIBRARY_PATH\u001B[39m\u001B[39m\"\u001B[39m, \u001B[39m\"\u001B[39m\u001B[39m\"\u001B[39m)\n\u001B[0;32m--> 568\u001B[0m proc \u001B[39m=\u001B[39m Popen(command, env\u001B[39m=\u001B[39;49menv, stdout\u001B[39m=\u001B[39;49mPIPE, stderr\u001B[39m=\u001B[39;49mPIPE)\n\u001B[1;32m    570\u001B[0m \u001B[39mtry\u001B[39;00m:\n",
      "File \u001B[0;32m~/opt/anaconda3/envs/ResumeParsing/lib/python3.9/subprocess.py:951\u001B[0m, in \u001B[0;36mPopen.__init__\u001B[0;34m(self, args, bufsize, executable, stdin, stdout, stderr, preexec_fn, close_fds, shell, cwd, env, universal_newlines, startupinfo, creationflags, restore_signals, start_new_session, pass_fds, user, group, extra_groups, encoding, errors, text, umask)\u001B[0m\n\u001B[1;32m    948\u001B[0m             \u001B[39mself\u001B[39m\u001B[39m.\u001B[39mstderr \u001B[39m=\u001B[39m io\u001B[39m.\u001B[39mTextIOWrapper(\u001B[39mself\u001B[39m\u001B[39m.\u001B[39mstderr,\n\u001B[1;32m    949\u001B[0m                     encoding\u001B[39m=\u001B[39mencoding, errors\u001B[39m=\u001B[39merrors)\n\u001B[0;32m--> 951\u001B[0m     \u001B[39mself\u001B[39;49m\u001B[39m.\u001B[39;49m_execute_child(args, executable, preexec_fn, close_fds,\n\u001B[1;32m    952\u001B[0m                         pass_fds, cwd, env,\n\u001B[1;32m    953\u001B[0m                         startupinfo, creationflags, shell,\n\u001B[1;32m    954\u001B[0m                         p2cread, p2cwrite,\n\u001B[1;32m    955\u001B[0m                         c2pread, c2pwrite,\n\u001B[1;32m    956\u001B[0m                         errread, errwrite,\n\u001B[1;32m    957\u001B[0m                         restore_signals,\n\u001B[1;32m    958\u001B[0m                         gid, gids, uid, umask,\n\u001B[1;32m    959\u001B[0m                         start_new_session)\n\u001B[1;32m    960\u001B[0m \u001B[39mexcept\u001B[39;00m:\n\u001B[1;32m    961\u001B[0m     \u001B[39m# Cleanup if the child failed starting.\u001B[39;00m\n",
      "File \u001B[0;32m~/opt/anaconda3/envs/ResumeParsing/lib/python3.9/subprocess.py:1821\u001B[0m, in \u001B[0;36mPopen._execute_child\u001B[0;34m(self, args, executable, preexec_fn, close_fds, pass_fds, cwd, env, startupinfo, creationflags, shell, p2cread, p2cwrite, c2pread, c2pwrite, errread, errwrite, restore_signals, gid, gids, uid, umask, start_new_session)\u001B[0m\n\u001B[1;32m   1820\u001B[0m         err_msg \u001B[39m=\u001B[39m os\u001B[39m.\u001B[39mstrerror(errno_num)\n\u001B[0;32m-> 1821\u001B[0m     \u001B[39mraise\u001B[39;00m child_exception_type(errno_num, err_msg, err_filename)\n\u001B[1;32m   1822\u001B[0m \u001B[39mraise\u001B[39;00m child_exception_type(err_msg)\n",
      "\u001B[0;31mFileNotFoundError\u001B[0m: [Errno 2] No such file or directory: 'pdfinfo'",
      "\nDuring handling of the above exception, another exception occurred:\n",
      "\u001B[0;31mPDFInfoNotInstalledError\u001B[0m                  Traceback (most recent call last)",
      "Cell \u001B[0;32mIn[8], line 24\u001B[0m\n\u001B[1;32m     22\u001B[0m     os\u001B[39m.\u001B[39mmkdir(pdf_output_dir)\n\u001B[1;32m     23\u001B[0m \u001B[39m# 将PDF文件转换为图像\u001B[39;00m\n\u001B[0;32m---> 24\u001B[0m pages \u001B[39m=\u001B[39m convert_from_path(pdf_path)\n\u001B[1;32m     25\u001B[0m \u001B[39m# 遍历所有图像页面\u001B[39;00m\n\u001B[1;32m     26\u001B[0m \u001B[39mfor\u001B[39;00m i, page \u001B[39min\u001B[39;00m \u001B[39menumerate\u001B[39m(pages):\n\u001B[1;32m     27\u001B[0m     \u001B[39m# 设置输出图像的文件名\u001B[39;00m\n",
      "File \u001B[0;32m~/opt/anaconda3/envs/ResumeParsing/lib/python3.9/site-packages/pdf2image/pdf2image.py:127\u001B[0m, in \u001B[0;36mconvert_from_path\u001B[0;34m(pdf_path, dpi, output_folder, first_page, last_page, fmt, jpegopt, thread_count, userpw, ownerpw, use_cropbox, strict, transparent, single_file, output_file, poppler_path, grayscale, size, paths_only, use_pdftocairo, timeout, hide_annotations)\u001B[0m\n\u001B[1;32m    124\u001B[0m \u001B[39mif\u001B[39;00m \u001B[39misinstance\u001B[39m(poppler_path, PurePath):\n\u001B[1;32m    125\u001B[0m     poppler_path \u001B[39m=\u001B[39m poppler_path\u001B[39m.\u001B[39mas_posix()\n\u001B[0;32m--> 127\u001B[0m page_count \u001B[39m=\u001B[39m pdfinfo_from_path(\n\u001B[1;32m    128\u001B[0m     pdf_path, userpw, ownerpw, poppler_path\u001B[39m=\u001B[39;49mpoppler_path\n\u001B[1;32m    129\u001B[0m )[\u001B[39m\"\u001B[39m\u001B[39mPages\u001B[39m\u001B[39m\"\u001B[39m]\n\u001B[1;32m    131\u001B[0m \u001B[39m# We start by getting the output format, the buffer processing function and if we need pdftocairo\u001B[39;00m\n\u001B[1;32m    132\u001B[0m parsed_fmt, final_extension, parse_buffer_func, use_pdfcairo_format \u001B[39m=\u001B[39m _parse_format(\n\u001B[1;32m    133\u001B[0m     fmt, grayscale\n\u001B[1;32m    134\u001B[0m )\n",
      "File \u001B[0;32m~/opt/anaconda3/envs/ResumeParsing/lib/python3.9/site-packages/pdf2image/pdf2image.py:594\u001B[0m, in \u001B[0;36mpdfinfo_from_path\u001B[0;34m(pdf_path, userpw, ownerpw, poppler_path, rawdates, timeout)\u001B[0m\n\u001B[1;32m    591\u001B[0m     \u001B[39mreturn\u001B[39;00m d\n\u001B[1;32m    593\u001B[0m \u001B[39mexcept\u001B[39;00m \u001B[39mOSError\u001B[39;00m:\n\u001B[0;32m--> 594\u001B[0m     \u001B[39mraise\u001B[39;00m PDFInfoNotInstalledError(\n\u001B[1;32m    595\u001B[0m         \u001B[39m\"\u001B[39m\u001B[39mUnable to get page count. Is poppler installed and in PATH?\u001B[39m\u001B[39m\"\u001B[39m\n\u001B[1;32m    596\u001B[0m     )\n\u001B[1;32m    597\u001B[0m \u001B[39mexcept\u001B[39;00m \u001B[39mValueError\u001B[39;00m:\n\u001B[1;32m    598\u001B[0m     \u001B[39mraise\u001B[39;00m PDFPageCountError(\n\u001B[1;32m    599\u001B[0m         \u001B[39mf\u001B[39m\u001B[39m\"\u001B[39m\u001B[39mUnable to get page count.\u001B[39m\u001B[39m\\n\u001B[39;00m\u001B[39m{\u001B[39;00merr\u001B[39m.\u001B[39mdecode(\u001B[39m'\u001B[39m\u001B[39mutf8\u001B[39m\u001B[39m'\u001B[39m, \u001B[39m'\u001B[39m\u001B[39mignore\u001B[39m\u001B[39m'\u001B[39m)\u001B[39m}\u001B[39;00m\u001B[39m\"\u001B[39m\n\u001B[1;32m    600\u001B[0m     )\n",
      "\u001B[0;31mPDFInfoNotInstalledError\u001B[0m: Unable to get page count. Is poppler installed and in PATH?"
     ]
    }
   ],
   "source": [
    "import os\n",
    "from PyPDF2 import PdfFileReader\n",
    "from pdf2image import convert_from_path\n",
    "\n",
    "# 设置输入文件夹路径\n",
    "input_dir = '../dataset/cv_files/pdf/'\n",
    "\n",
    "# 设置输出文件夹路径\n",
    "output_dir = '../dataset/images/'\n",
    "\n",
    "# 创建输出文件夹\n",
    "if not os.path.exists(output_dir):\n",
    "    os.mkdir(output_dir)\n",
    "\n",
    "# 遍历输入文件夹中的所有PDF文件\n",
    "for pdf_file_name in os.listdir(input_dir):\n",
    "    if pdf_file_name.endswith('.pdf'):\n",
    "        pdf_path = os.path.join(input_dir, pdf_file_name)\n",
    "        # 创建当前PDF文件的输出子文件夹\n",
    "        pdf_output_dir = os.path.join(output_dir, pdf_file_name[:-4])\n",
    "        if not os.path.exists(pdf_output_dir):\n",
    "            os.mkdir(pdf_output_dir)\n",
    "        # 将PDF文件转换为图像\n",
    "        pages = convert_from_path(pdf_path)\n",
    "        # 遍历所有图像页面\n",
    "        for i, page in enumerate(pages):\n",
    "            # 设置输出图像的文件名\n",
    "            output_filename = f'page_{i + 1}.jpg'\n",
    "            # 设置输出图像的完整路径\n",
    "            output_path = os.path.join(pdf_output_dir, output_filename)\n",
    "            # 保存图像文件\n",
    "            page.save(output_path, 'JPEG')\n"
   ]
  },
  {
   "cell_type": "code",
   "execution_count": null,
   "metadata": {
    "pycharm": {
     "name": "#%%\n"
    }
   },
   "outputs": [],
   "source": []
  }
 ],
 "metadata": {
  "kernelspec": {
   "display_name": "ResumeParsing",
   "language": "python",
   "name": "python3"
  },
  "language_info": {
   "codemirror_mode": {
    "name": "ipython",
    "version": 3
   },
   "file_extension": ".py",
   "mimetype": "text/x-python",
   "name": "python",
   "nbconvert_exporter": "python",
   "pygments_lexer": "ipython3",
   "version": "3.9.16"
  },
  "orig_nbformat": 4
 },
 "nbformat": 4,
 "nbformat_minor": 2
}